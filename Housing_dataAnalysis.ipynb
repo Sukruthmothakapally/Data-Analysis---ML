{
 "cells": [
  {
   "cell_type": "markdown",
   "id": "25ab7788",
   "metadata": {},
   "source": [
    "# Assignment 3 - Linear Regression"
   ]
  },
  {
   "cell_type": "markdown",
   "id": "2dddc30c",
   "metadata": {},
   "source": [
    "# Section 1 - Loading Dataset"
   ]
  },
  {
   "cell_type": "code",
   "execution_count": 1,
   "id": "4a53d07a",
   "metadata": {},
   "outputs": [],
   "source": [
    "import pandas as pd"
   ]
  },
  {
   "cell_type": "markdown",
   "id": "e49e0fd0",
   "metadata": {},
   "source": [
    "### 1.1 Load the dataset into a dataframe named df"
   ]
  },
  {
   "cell_type": "code",
   "execution_count": 2,
   "id": "abadc8ab",
   "metadata": {},
   "outputs": [
    {
     "data": {
      "text/html": [
       "<div>\n",
       "<style scoped>\n",
       "    .dataframe tbody tr th:only-of-type {\n",
       "        vertical-align: middle;\n",
       "    }\n",
       "\n",
       "    .dataframe tbody tr th {\n",
       "        vertical-align: top;\n",
       "    }\n",
       "\n",
       "    .dataframe thead th {\n",
       "        text-align: right;\n",
       "    }\n",
       "</style>\n",
       "<table border=\"1\" class=\"dataframe\">\n",
       "  <thead>\n",
       "    <tr style=\"text-align: right;\">\n",
       "      <th></th>\n",
       "      <th>longitude</th>\n",
       "      <th>latitude</th>\n",
       "      <th>housing_median_age</th>\n",
       "      <th>total_rooms</th>\n",
       "      <th>total_bedrooms</th>\n",
       "      <th>population</th>\n",
       "      <th>households</th>\n",
       "      <th>median_income</th>\n",
       "      <th>median_house_value</th>\n",
       "      <th>ocean_proximity</th>\n",
       "    </tr>\n",
       "  </thead>\n",
       "  <tbody>\n",
       "    <tr>\n",
       "      <th>0</th>\n",
       "      <td>-122.23</td>\n",
       "      <td>37.88</td>\n",
       "      <td>41.0</td>\n",
       "      <td>880.0</td>\n",
       "      <td>129.0</td>\n",
       "      <td>322.0</td>\n",
       "      <td>126.0</td>\n",
       "      <td>8.3252</td>\n",
       "      <td>452600.0</td>\n",
       "      <td>NEAR BAY</td>\n",
       "    </tr>\n",
       "    <tr>\n",
       "      <th>1</th>\n",
       "      <td>-122.22</td>\n",
       "      <td>37.86</td>\n",
       "      <td>21.0</td>\n",
       "      <td>7099.0</td>\n",
       "      <td>1106.0</td>\n",
       "      <td>2401.0</td>\n",
       "      <td>1138.0</td>\n",
       "      <td>8.3014</td>\n",
       "      <td>358500.0</td>\n",
       "      <td>NEAR BAY</td>\n",
       "    </tr>\n",
       "    <tr>\n",
       "      <th>2</th>\n",
       "      <td>-122.24</td>\n",
       "      <td>37.85</td>\n",
       "      <td>52.0</td>\n",
       "      <td>1467.0</td>\n",
       "      <td>190.0</td>\n",
       "      <td>496.0</td>\n",
       "      <td>177.0</td>\n",
       "      <td>7.2574</td>\n",
       "      <td>352100.0</td>\n",
       "      <td>NEAR BAY</td>\n",
       "    </tr>\n",
       "    <tr>\n",
       "      <th>3</th>\n",
       "      <td>-122.25</td>\n",
       "      <td>37.85</td>\n",
       "      <td>52.0</td>\n",
       "      <td>1274.0</td>\n",
       "      <td>235.0</td>\n",
       "      <td>558.0</td>\n",
       "      <td>219.0</td>\n",
       "      <td>5.6431</td>\n",
       "      <td>341300.0</td>\n",
       "      <td>NEAR BAY</td>\n",
       "    </tr>\n",
       "    <tr>\n",
       "      <th>4</th>\n",
       "      <td>-122.25</td>\n",
       "      <td>37.85</td>\n",
       "      <td>52.0</td>\n",
       "      <td>1627.0</td>\n",
       "      <td>280.0</td>\n",
       "      <td>565.0</td>\n",
       "      <td>259.0</td>\n",
       "      <td>3.8462</td>\n",
       "      <td>342200.0</td>\n",
       "      <td>NEAR BAY</td>\n",
       "    </tr>\n",
       "    <tr>\n",
       "      <th>...</th>\n",
       "      <td>...</td>\n",
       "      <td>...</td>\n",
       "      <td>...</td>\n",
       "      <td>...</td>\n",
       "      <td>...</td>\n",
       "      <td>...</td>\n",
       "      <td>...</td>\n",
       "      <td>...</td>\n",
       "      <td>...</td>\n",
       "      <td>...</td>\n",
       "    </tr>\n",
       "    <tr>\n",
       "      <th>20635</th>\n",
       "      <td>-121.09</td>\n",
       "      <td>39.48</td>\n",
       "      <td>25.0</td>\n",
       "      <td>1665.0</td>\n",
       "      <td>374.0</td>\n",
       "      <td>845.0</td>\n",
       "      <td>330.0</td>\n",
       "      <td>1.5603</td>\n",
       "      <td>78100.0</td>\n",
       "      <td>INLAND</td>\n",
       "    </tr>\n",
       "    <tr>\n",
       "      <th>20636</th>\n",
       "      <td>-121.21</td>\n",
       "      <td>39.49</td>\n",
       "      <td>18.0</td>\n",
       "      <td>697.0</td>\n",
       "      <td>150.0</td>\n",
       "      <td>356.0</td>\n",
       "      <td>114.0</td>\n",
       "      <td>2.5568</td>\n",
       "      <td>77100.0</td>\n",
       "      <td>INLAND</td>\n",
       "    </tr>\n",
       "    <tr>\n",
       "      <th>20637</th>\n",
       "      <td>-121.22</td>\n",
       "      <td>39.43</td>\n",
       "      <td>17.0</td>\n",
       "      <td>2254.0</td>\n",
       "      <td>485.0</td>\n",
       "      <td>1007.0</td>\n",
       "      <td>433.0</td>\n",
       "      <td>1.7000</td>\n",
       "      <td>92300.0</td>\n",
       "      <td>INLAND</td>\n",
       "    </tr>\n",
       "    <tr>\n",
       "      <th>20638</th>\n",
       "      <td>-121.32</td>\n",
       "      <td>39.43</td>\n",
       "      <td>18.0</td>\n",
       "      <td>1860.0</td>\n",
       "      <td>409.0</td>\n",
       "      <td>741.0</td>\n",
       "      <td>349.0</td>\n",
       "      <td>1.8672</td>\n",
       "      <td>84700.0</td>\n",
       "      <td>INLAND</td>\n",
       "    </tr>\n",
       "    <tr>\n",
       "      <th>20639</th>\n",
       "      <td>-121.24</td>\n",
       "      <td>39.37</td>\n",
       "      <td>16.0</td>\n",
       "      <td>2785.0</td>\n",
       "      <td>616.0</td>\n",
       "      <td>1387.0</td>\n",
       "      <td>530.0</td>\n",
       "      <td>2.3886</td>\n",
       "      <td>89400.0</td>\n",
       "      <td>INLAND</td>\n",
       "    </tr>\n",
       "  </tbody>\n",
       "</table>\n",
       "<p>20640 rows × 10 columns</p>\n",
       "</div>"
      ],
      "text/plain": [
       "       longitude  latitude  housing_median_age  total_rooms  total_bedrooms  \\\n",
       "0        -122.23     37.88                41.0        880.0           129.0   \n",
       "1        -122.22     37.86                21.0       7099.0          1106.0   \n",
       "2        -122.24     37.85                52.0       1467.0           190.0   \n",
       "3        -122.25     37.85                52.0       1274.0           235.0   \n",
       "4        -122.25     37.85                52.0       1627.0           280.0   \n",
       "...          ...       ...                 ...          ...             ...   \n",
       "20635    -121.09     39.48                25.0       1665.0           374.0   \n",
       "20636    -121.21     39.49                18.0        697.0           150.0   \n",
       "20637    -121.22     39.43                17.0       2254.0           485.0   \n",
       "20638    -121.32     39.43                18.0       1860.0           409.0   \n",
       "20639    -121.24     39.37                16.0       2785.0           616.0   \n",
       "\n",
       "       population  households  median_income  median_house_value  \\\n",
       "0           322.0       126.0         8.3252            452600.0   \n",
       "1          2401.0      1138.0         8.3014            358500.0   \n",
       "2           496.0       177.0         7.2574            352100.0   \n",
       "3           558.0       219.0         5.6431            341300.0   \n",
       "4           565.0       259.0         3.8462            342200.0   \n",
       "...           ...         ...            ...                 ...   \n",
       "20635       845.0       330.0         1.5603             78100.0   \n",
       "20636       356.0       114.0         2.5568             77100.0   \n",
       "20637      1007.0       433.0         1.7000             92300.0   \n",
       "20638       741.0       349.0         1.8672             84700.0   \n",
       "20639      1387.0       530.0         2.3886             89400.0   \n",
       "\n",
       "      ocean_proximity  \n",
       "0            NEAR BAY  \n",
       "1            NEAR BAY  \n",
       "2            NEAR BAY  \n",
       "3            NEAR BAY  \n",
       "4            NEAR BAY  \n",
       "...               ...  \n",
       "20635          INLAND  \n",
       "20636          INLAND  \n",
       "20637          INLAND  \n",
       "20638          INLAND  \n",
       "20639          INLAND  \n",
       "\n",
       "[20640 rows x 10 columns]"
      ]
     },
     "execution_count": 2,
     "metadata": {},
     "output_type": "execute_result"
    }
   ],
   "source": [
    "df=pd.read_csv('housing.csv')\n",
    "df"
   ]
  },
  {
   "cell_type": "markdown",
   "id": "a8560da5",
   "metadata": {},
   "source": [
    "### 1.2 Print the number of rows and columns in the dataframe"
   ]
  },
  {
   "cell_type": "code",
   "execution_count": 3,
   "id": "7238d88f",
   "metadata": {},
   "outputs": [
    {
     "name": "stdout",
     "output_type": "stream",
     "text": [
      "number of rows: 20640\n",
      "number of columns: 10\n"
     ]
    }
   ],
   "source": [
    "print(\"number of rows:\",df.shape[0])\n",
    "print(\"number of columns:\",df.shape[1])"
   ]
  },
  {
   "cell_type": "markdown",
   "id": "adbb1889",
   "metadata": {},
   "source": [
    "shape[0] fetches rows while shape[1] fetches columns"
   ]
  },
  {
   "cell_type": "markdown",
   "id": "ef7505e2",
   "metadata": {},
   "source": [
    "### 1.3 Print the first 5 rows of the dataframe"
   ]
  },
  {
   "cell_type": "code",
   "execution_count": 4,
   "id": "2fc287b8",
   "metadata": {},
   "outputs": [
    {
     "name": "stdout",
     "output_type": "stream",
     "text": [
      "First five rows are: \n",
      "\n",
      "   longitude  latitude  housing_median_age  total_rooms  total_bedrooms  \\\n",
      "0    -122.23     37.88                41.0        880.0           129.0   \n",
      "1    -122.22     37.86                21.0       7099.0          1106.0   \n",
      "2    -122.24     37.85                52.0       1467.0           190.0   \n",
      "3    -122.25     37.85                52.0       1274.0           235.0   \n",
      "4    -122.25     37.85                52.0       1627.0           280.0   \n",
      "\n",
      "   population  households  median_income  median_house_value ocean_proximity  \n",
      "0       322.0       126.0         8.3252            452600.0        NEAR BAY  \n",
      "1      2401.0      1138.0         8.3014            358500.0        NEAR BAY  \n",
      "2       496.0       177.0         7.2574            352100.0        NEAR BAY  \n",
      "3       558.0       219.0         5.6431            341300.0        NEAR BAY  \n",
      "4       565.0       259.0         3.8462            342200.0        NEAR BAY  \n"
     ]
    }
   ],
   "source": [
    "print(\"First five rows are: \\n\")\n",
    "print(df.head())"
   ]
  },
  {
   "cell_type": "markdown",
   "id": "6b334d2d",
   "metadata": {},
   "source": [
    "head() function returns the first 5 values by default"
   ]
  },
  {
   "cell_type": "markdown",
   "id": "55552439",
   "metadata": {},
   "source": [
    "## Section 2 - Performing Exploratory Data Analysis on the dataset"
   ]
  },
  {
   "cell_type": "markdown",
   "id": "768645a0",
   "metadata": {},
   "source": [
    "### 2.1 Print name of all the columns and type of each column (numerical or categorical)"
   ]
  },
  {
   "cell_type": "code",
   "execution_count": 5,
   "id": "0e92a586",
   "metadata": {},
   "outputs": [
    {
     "name": "stdout",
     "output_type": "stream",
     "text": [
      "column names are: \n",
      "\n",
      "Index(['longitude', 'latitude', 'housing_median_age', 'total_rooms',\n",
      "       'total_bedrooms', 'population', 'households', 'median_income',\n",
      "       'median_house_value', 'ocean_proximity'],\n",
      "      dtype='object')\n",
      "\n",
      "type of each column: \n",
      "\n",
      "longitude             float64\n",
      "latitude              float64\n",
      "housing_median_age    float64\n",
      "total_rooms           float64\n",
      "total_bedrooms        float64\n",
      "population            float64\n",
      "households            float64\n",
      "median_income         float64\n",
      "median_house_value    float64\n",
      "ocean_proximity        object\n",
      "dtype: object\n",
      "\n",
      "After converting object to category: (hence having numeric and categorical data type)\n",
      "\n",
      "longitude              float64\n",
      "latitude               float64\n",
      "housing_median_age     float64\n",
      "total_rooms            float64\n",
      "total_bedrooms         float64\n",
      "population             float64\n",
      "households             float64\n",
      "median_income          float64\n",
      "median_house_value     float64\n",
      "ocean_proximity       category\n",
      "dtype: object\n"
     ]
    }
   ],
   "source": [
    "print(\"column names are: \\n\")\n",
    "print(df.columns)\n",
    "print()\n",
    "print(\"type of each column: \\n\")\n",
    "print(df.dtypes)\n",
    "print()\n",
    "print(\"After converting object to category: (hence having numeric and categorical data type)\\n\")\n",
    "df['ocean_proximity'] = df.ocean_proximity.astype('category')\n",
    "print(df.dtypes)"
   ]
  },
  {
   "cell_type": "markdown",
   "id": "d373e4f7",
   "metadata": {},
   "source": [
    "### 2.2 For all the numerical columns plot the histogram distribution and write your observations about them. (Except latitude and longitude) "
   ]
  },
  {
   "cell_type": "markdown",
   "id": "1848dc72",
   "metadata": {},
   "source": [
    "created a histogram using pandas"
   ]
  },
  {
   "cell_type": "markdown",
   "id": "6456d57b",
   "metadata": {},
   "source": [
    "histogram details:\n",
    "    bins- number of histogram bars.\n",
    "    grid- whether we want to use grid in the background.\n",
    "    figsize()- height and width of the graph.\n",
    "    color- color of the histogram.\n",
    "    rwidth- width of the histogram bar."
   ]
  },
  {
   "cell_type": "code",
   "execution_count": 6,
   "id": "e8f0f429",
   "metadata": {},
   "outputs": [
    {
     "data": {
      "text/plain": [
       "array([[<AxesSubplot:title={'center':'housing_median_age'}>,\n",
       "        <AxesSubplot:title={'center':'total_rooms'}>,\n",
       "        <AxesSubplot:title={'center':'total_bedrooms'}>],\n",
       "       [<AxesSubplot:title={'center':'population'}>,\n",
       "        <AxesSubplot:title={'center':'households'}>,\n",
       "        <AxesSubplot:title={'center':'median_income'}>],\n",
       "       [<AxesSubplot:title={'center':'median_house_value'}>,\n",
       "        <AxesSubplot:>, <AxesSubplot:>]], dtype=object)"
      ]
     },
     "execution_count": 6,
     "metadata": {},
     "output_type": "execute_result"
    },
    {
     "data": {
      "image/png": "[encoded data removed]",
      "text/plain": [
       "<Figure size 1440x864 with 9 Axes>"
      ]
     },
     "metadata": {
      "needs_background": "light"
     },
     "output_type": "display_data"
    }
   ],
   "source": [
    "df.hist(column=df.columns[2:], bins=35, grid=False, figsize=(20,12), color='#86bf91', rwidth=0.8)"
   ]
  },
  {
   "cell_type": "markdown",
   "id": "4e80d176",
   "metadata": {},
   "source": [
    "observation - all columns except 'housing median age' and 'median income' decreases in frequency when its parameter increases.\n",
    "however - 'median income' increases and then decreases in frequency when its value increases"
   ]
  },
  {
   "cell_type": "markdown",
   "id": "bd499416",
   "metadata": {},
   "source": [
    "### 2.3 For all the numerical columns plot the box plots and check if there are outliers in any of the column. (Except latitude and longitude)"
   ]
  },
  {
   "cell_type": "code",
   "execution_count": 7,
   "id": "4f127cb5",
   "metadata": {},
   "outputs": [
    {
     "data": {
      "image/png": "[encoded data removed]",
      "text/plain": [
       "<Figure size 1080x720 with 1 Axes>"
      ]
     },
     "metadata": {
      "needs_background": "light"
     },
     "output_type": "display_data"
    }
   ],
   "source": [
    "boxplot = df.boxplot(column=['housing_median_age','total_rooms','total_bedrooms','population','households','median_income','median_house_value'], figsize=(15,10), grid=False, rot=45, fontsize=13)"
   ]
  },
  {
   "cell_type": "markdown",
   "id": "20dd6bc1",
   "metadata": {},
   "source": [
    "(OR) one more boxplot using seaborn"
   ]
  },
  {
   "cell_type": "code",
   "execution_count": 8,
   "id": "6d6cbf52",
   "metadata": {},
   "outputs": [],
   "source": [
    "import seaborn as sns"
   ]
  },
  {
   "cell_type": "code",
   "execution_count": 9,
   "id": "8ef1d18f",
   "metadata": {},
   "outputs": [
    {
     "name": "stderr",
     "output_type": "stream",
     "text": [
      "C:\\Users\\Dell\\anaconda3\\lib\\site-packages\\seaborn\\categorical.py:82: FutureWarning: iteritems is deprecated and will be removed in a future version. Use .items instead.\n",
      "  plot_data = [np.asarray(s, float) for k, s in iter_data]\n"
     ]
    },
    {
     "data": {
      "text/plain": [
       "<AxesSubplot:>"
      ]
     },
     "execution_count": 9,
     "metadata": {},
     "output_type": "execute_result"
    },
    {
     "data": {
      "image/png": "[encoded data removed]",
      "text/plain": [
       "<Figure size 432x288 with 1 Axes>"
      ]
     },
     "metadata": {
      "needs_background": "light"
     },
     "output_type": "display_data"
    }
   ],
   "source": [
    "sns.boxplot(data=df[['housing_median_age','total_rooms','total_bedrooms','population','households','median_income','median_house_value']], orient=\"h\")"
   ]
  },
  {
   "cell_type": "markdown",
   "id": "5ec63b8d",
   "metadata": {},
   "source": [
    "- Outliers observation - Yes outliers are present as many columns have values outside the inter quantile range.\n",
    "- Outliers Values exist above the upper quantile\n"
   ]
  },
  {
   "cell_type": "markdown",
   "id": "a5dbf374",
   "metadata": {},
   "source": [
    "Verification of outliers using inter quartile range - "
   ]
  },
  {
   "cell_type": "code",
   "execution_count": 10,
   "id": "4594091e",
   "metadata": {},
   "outputs": [
    {
     "name": "stdout",
     "output_type": "stream",
     "text": [
      "Number of outliers in house median age column:  0\n",
      "Number of outliers in total_rooms column:  1287\n",
      "Number of outliers in total bedrooms column:  0\n",
      "Number of outliers in population column:  1196\n",
      "Number of outliers in house hold columns:  1220\n",
      "Number of outliers in median income column:  681\n",
      "Number of outliers in house median value column:  1071\n"
     ]
    }
   ],
   "source": [
    "import numpy as np\n",
    "\n",
    "#housing median age\n",
    "Q1_0,Q3_0 = np.percentile(df['housing_median_age'] , [25,75])\n",
    "\n",
    "# Find IQR, upper limit, lower limit\n",
    "IQR_0 = Q3_0 - Q1_0\n",
    "ul_0 = Q3_0+1.5*IQR_0\n",
    "ll_0 = Q1_0-1.5*IQR_0\n",
    "\n",
    "# Find outliers\n",
    "outliers_0 = df['housing_median_age'][(df['housing_median_age'] > ul_0) | (df['housing_median_age'] < ll_0)]\n",
    "\n",
    "#total_rooms\n",
    "Q1,Q3 = np.percentile(df['total_rooms'] , [25,75])\n",
    "\n",
    "# Find IQR, upper limit, lower limit\n",
    "IQR = Q3 - Q1\n",
    "ul = Q3+1.5*IQR\n",
    "ll = Q1-1.5*IQR\n",
    "\n",
    "# Find outliers\n",
    "outliers = df['total_rooms'][(df['total_rooms'] > ul) | (df['total_rooms'] < ll)]\n",
    "\n",
    "#total_bedrooms\n",
    "Q1_2,Q3_2 = np.percentile(df['total_bedrooms'] , [25,75])\n",
    "\n",
    "# Find IQR, upper limit, lower limit\n",
    "IQR_2 = Q3_2 - Q1_2\n",
    "ul_2 = Q3_2+1.5*IQR_2\n",
    "ll_2 = Q1_2-1.5*IQR_2\n",
    "\n",
    "# Find outliers\n",
    "outliers_2 = df['total_bedrooms'][(df['total_bedrooms'] > ul_2) | (df['total_bedrooms'] < ll_2)]\n",
    "\n",
    "#population\n",
    "Q1_3,Q3_3 = np.percentile(df['population'] , [25,75])\n",
    "\n",
    "# Find IQR, upper limit, lower limit\n",
    "IQR_3 = Q3_3 - Q1_3\n",
    "ul_3 = Q3_3+1.5*IQR_3\n",
    "ll_3 = Q1_3-1.5*IQR_3\n",
    "\n",
    "# Find outliers\n",
    "outliers_3 = df['population'][(df['population'] > ul_3) | (df['population'] < ll_3)]\n",
    "\n",
    "#house holds\n",
    "Q1_4,Q3_4 = np.percentile(df['households'] , [25,75])\n",
    "\n",
    "# Find IQR, upper limit, lower limit\n",
    "IQR_4 = Q3_4 - Q1_4\n",
    "ul_4 = Q3_4+1.5*IQR_4\n",
    "ll_4 = Q1_4-1.5*IQR_4\n",
    "\n",
    "# Find outliers\n",
    "outliers_4 = df['households'][(df['households'] > ul_4) | (df['households'] < ll_4)]\n",
    "\n",
    "#median income\n",
    "Q1_5,Q3_5 = np.percentile(df['median_income'] , [25,75])\n",
    "\n",
    "# Find IQR, upper limit, lower limit\n",
    "IQR_5 = Q3_5 - Q1_5\n",
    "ul_5 = Q3_5+1.5*IQR_5\n",
    "ll_5 = Q1_5-1.5*IQR_5\n",
    "\n",
    "# Find outliers\n",
    "outliers_5 = df['median_income'][(df['median_income'] > ul_5) | (df['median_income'] < ll_5)]\n",
    "\n",
    "#median house value\n",
    "Q1_6,Q3_6 = np.percentile(df['median_house_value'] , [25,75])\n",
    "\n",
    "# Find IQR, upper limit, lower limit\n",
    "IQR_6 = Q3_6 - Q1_6\n",
    "ul_6 = Q3_6+1.5*IQR_6\n",
    "ll_6 = Q1_6-1.5*IQR_6\n",
    "\n",
    "# Find outliers\n",
    "outliers_6 = df['median_house_value'][(df['median_house_value'] > ul_6) | (df['median_house_value'] < ll_6)]\n",
    "\n",
    "print(\"Number of outliers in house median age column: \",len(outliers_0))\n",
    "print(\"Number of outliers in total_rooms column: \",len(outliers))\n",
    "print(\"Number of outliers in total bedrooms column: \",len(outliers_2))\n",
    "print(\"Number of outliers in population column: \",len(outliers_3))\n",
    "print(\"Number of outliers in house hold columns: \",len(outliers_4))\n",
    "print(\"Number of outliers in median income column: \",len(outliers_5))\n",
    "print(\"Number of outliers in house median value column: \",len(outliers_6))"
   ]
  },
  {
   "cell_type": "markdown",
   "id": "eb7e1097",
   "metadata": {},
   "source": [
    "conclusion - except house median age and total bedrooms all columns have outliers"
   ]
  },
  {
   "cell_type": "markdown",
   "id": "501098c0",
   "metadata": {},
   "source": [
    "### 2.4 Plot a heatmap and check whether there is a correlation between different numerical features. Also check the correlation of different features with the target feature median_house_value"
   ]
  },
  {
   "cell_type": "code",
   "execution_count": 11,
   "id": "4ac3a3c2",
   "metadata": {},
   "outputs": [
    {
     "data": {
      "text/plain": [
       "<AxesSubplot:>"
      ]
     },
     "execution_count": 11,
     "metadata": {},
     "output_type": "execute_result"
    },
    {
     "data": {
      "image/png": "[encoded data removed]",
      "text/plain": [
       "<Figure size 432x288 with 2 Axes>"
      ]
     },
     "metadata": {
      "needs_background": "light"
     },
     "output_type": "display_data"
    }
   ],
   "source": [
    "sns.heatmap(data=df[['longitude','latitude','housing_median_age','total_rooms','total_bedrooms','population','households','median_income','median_house_value']].corr(), cmap=\"YlGnBu\", annot=True)"
   ]
  },
  {
   "cell_type": "markdown",
   "id": "c53c63b2",
   "metadata": {},
   "source": [
    "Yes - there is a correlation between many numerical columns as many values are closer to +1 (positive correlation) and -1 (negative correlation)"
   ]
  },
  {
   "cell_type": "markdown",
   "id": "a0caef35",
   "metadata": {},
   "source": [
    "Correlation between target- median_house_value and all features"
   ]
  },
  {
   "cell_type": "code",
   "execution_count": 12,
   "id": "3de84153",
   "metadata": {},
   "outputs": [
    {
     "name": "stderr",
     "output_type": "stream",
     "text": [
      "C:\\Users\\Dell\\AppData\\Local\\Temp\\ipykernel_106376\\3908781695.py:2: FutureWarning: The default value of numeric_only in DataFrame.corr is deprecated. In a future version, it will default to False. Select only valid columns or specify the value of numeric_only to silence this warning.\n",
      "  corr_matrix = df.corr()['median_house_value']\n"
     ]
    },
    {
     "data": {
      "text/plain": [
       "Text(0.5, 1.0, 'features correlating with median house value')"
      ]
     },
     "execution_count": 12,
     "metadata": {},
     "output_type": "execute_result"
    },
    {
     "data": {
      "image/png": "[encoded data removed]",
      "text/plain": [
       "<Figure size 432x288 with 2 Axes>"
      ]
     },
     "metadata": {
      "needs_background": "light"
     },
     "output_type": "display_data"
    }
   ],
   "source": [
    "#import matplotlib.pyplot as plt\n",
    "corr_matrix = df.corr()['median_house_value']\n",
    "data = pd.DataFrame(corr_matrix)\n",
    "\n",
    "heatmap=sns.heatmap(data, cmap=\"YlGnBu\", annot=True) \n",
    "heatmap.set_title('features correlating with median house value')"
   ]
  },
  {
   "cell_type": "markdown",
   "id": "eafac3db",
   "metadata": {},
   "source": [
    "observation - only median income is most correlated with median house value"
   ]
  },
  {
   "cell_type": "markdown",
   "id": "897c65e0",
   "metadata": {},
   "source": [
    "### 2.5 Plot a barplot to check how many houses are in different subcategories of the feature ‘ocean_proximity'"
   ]
  },
  {
   "cell_type": "code",
   "execution_count": 13,
   "id": "f1a721f7",
   "metadata": {},
   "outputs": [
    {
     "data": {
      "text/plain": [
       "Text(0, 0.5, 'number of houses')"
      ]
     },
     "execution_count": 13,
     "metadata": {},
     "output_type": "execute_result"
    },
    {
     "data": {
      "image/png": "[encoded data removed]",
      "text/plain": [
       "<Figure size 432x288 with 1 Axes>"
      ]
     },
     "metadata": {
      "needs_background": "light"
     },
     "output_type": "display_data"
    }
   ],
   "source": [
    "import matplotlib.pyplot as plt\n",
    "\n",
    "df.ocean_proximity.value_counts().plot.bar()\n",
    "plt.title('Number of houses in different subcategories of ocean_proximity')\n",
    "plt.xlabel('ocean_proximity')\n",
    "plt.ylabel('number of houses')"
   ]
  },
  {
   "cell_type": "markdown",
   "id": "628eb674",
   "metadata": {},
   "source": [
    "value_counts() returns the number of occurances of each sub category. then I directly plotted a bar graph to that result"
   ]
  },
  {
   "cell_type": "markdown",
   "id": "fdd58f33",
   "metadata": {},
   "source": [
    "## Section 3 - Preprocessing dataset"
   ]
  },
  {
   "cell_type": "markdown",
   "id": "ae57f19e",
   "metadata": {},
   "source": [
    "### 3.1 Find if there are any NaN values in the dataset"
   ]
  },
  {
   "cell_type": "code",
   "execution_count": 14,
   "id": "82d7041f",
   "metadata": {},
   "outputs": [
    {
     "name": "stdout",
     "output_type": "stream",
     "text": [
      "Yes NaN values exists and the Number of NaN present in dataset is :  207\n"
     ]
    }
   ],
   "source": [
    "check_nan=df.isnull().values.any()\n",
    "if check_nan==True:\n",
    "    print(\"Yes NaN values exists and the Number of NaN present in dataset is : \",df.isnull().sum().sum())\n",
    "else:\n",
    "    print(\"There are no NaN in the dataset\")"
   ]
  },
  {
   "cell_type": "markdown",
   "id": "14e9d587",
   "metadata": {},
   "source": [
    "to check which column/s has NaN values"
   ]
  },
  {
   "cell_type": "code",
   "execution_count": 15,
   "id": "41d687ad",
   "metadata": {},
   "outputs": [
    {
     "name": "stdout",
     "output_type": "stream",
     "text": [
      "longitude               0\n",
      "latitude                0\n",
      "housing_median_age      0\n",
      "total_rooms             0\n",
      "total_bedrooms        207\n",
      "population              0\n",
      "households              0\n",
      "median_income           0\n",
      "median_house_value      0\n",
      "ocean_proximity         0\n",
      "dtype: int64\n"
     ]
    }
   ],
   "source": [
    "print(df.isnull().sum())"
   ]
  },
  {
   "cell_type": "markdown",
   "id": "8caf0373",
   "metadata": {},
   "source": [
    "observation - NaN exists only in total bedrooms column"
   ]
  },
  {
   "cell_type": "markdown",
   "id": "f87668a4",
   "metadata": {},
   "source": [
    "### 3.2 Impute the NaN values with the median value of the column"
   ]
  },
  {
   "cell_type": "code",
   "execution_count": 16,
   "id": "b08dd7c3",
   "metadata": {},
   "outputs": [
    {
     "name": "stdout",
     "output_type": "stream",
     "text": [
      "Number of NaN values presently :\n",
      " longitude             0\n",
      "latitude              0\n",
      "housing_median_age    0\n",
      "total_rooms           0\n",
      "total_bedrooms        0\n",
      "population            0\n",
      "households            0\n",
      "median_income         0\n",
      "median_house_value    0\n",
      "ocean_proximity       0\n",
      "dtype: int64\n"
     ]
    }
   ],
   "source": [
    "df.total_bedrooms.fillna(df.total_bedrooms.median(), inplace=True)\n",
    "print(\"Number of NaN values presently :\\n\", df.isnull().sum())"
   ]
  },
  {
   "cell_type": "markdown",
   "id": "51720841",
   "metadata": {},
   "source": [
    "filled NaN of total bedrooms with its median"
   ]
  },
  {
   "cell_type": "markdown",
   "id": "e4a916c6",
   "metadata": {},
   "source": [
    "### 3.3 Remove the outlier datapoints from the dataset"
   ]
  },
  {
   "cell_type": "markdown",
   "id": "443773ef",
   "metadata": {},
   "source": [
    "removing / dropping outliers and checking the shape of dataset "
   ]
  },
  {
   "cell_type": "code",
   "execution_count": 17,
   "id": "a381c1dc",
   "metadata": {},
   "outputs": [
    {
     "name": "stdout",
     "output_type": "stream",
     "text": [
      "old shape of dataframe :  (20640, 10)\n"
     ]
    }
   ],
   "source": [
    "old_shape = df.shape\n",
    "print(\"old shape of dataframe : \",old_shape)"
   ]
  },
  {
   "cell_type": "markdown",
   "id": "7bda787d",
   "metadata": {},
   "source": [
    "defining a function to return a list that contains the outliers"
   ]
  },
  {
   "cell_type": "code",
   "execution_count": 18,
   "id": "b7746ec0",
   "metadata": {},
   "outputs": [],
   "source": [
    "def remove_outliers(df,column):\n",
    "    q1 = df[column].quantile(0.25)\n",
    "    q3 = df[column].quantile(0.75)\n",
    "    iqr = q3 - q1\n",
    "    lower = q1 - 1.5 * iqr\n",
    "    upper = q3 + 1.5 *iqr\n",
    "    outliers_list = df.index[(df[column] < lower) | (df[column] > upper)]\n",
    "\n",
    "    return outliers_list"
   ]
  },
  {
   "cell_type": "markdown",
   "id": "df1d743c",
   "metadata": {},
   "source": [
    "iterating over the columns and storing the outlier values in an empty list"
   ]
  },
  {
   "cell_type": "code",
   "execution_count": 19,
   "id": "b17c576f",
   "metadata": {},
   "outputs": [],
   "source": [
    "list_res =[]\n",
    "for i in ['longitude','latitude','housing_median_age','total_rooms','total_bedrooms','population','households','median_income','median_house_value']:\n",
    "    list_res.extend(remove_outliers(df,i))"
   ]
  },
  {
   "cell_type": "markdown",
   "id": "f8d50407",
   "metadata": {},
   "source": [
    "number of outliers in the whole dataframe - "
   ]
  },
  {
   "cell_type": "code",
   "execution_count": 20,
   "id": "93077bea",
   "metadata": {},
   "outputs": [
    {
     "data": {
      "text/plain": [
       "6761"
      ]
     },
     "execution_count": 20,
     "metadata": {},
     "output_type": "execute_result"
    }
   ],
   "source": [
    "len(list_res)"
   ]
  },
  {
   "cell_type": "markdown",
   "id": "9e6413c9",
   "metadata": {},
   "source": [
    "creating a function to return the final cleaned dataset after removing the outliers"
   ]
  },
  {
   "cell_type": "code",
   "execution_count": 21,
   "id": "57b38e03",
   "metadata": {},
   "outputs": [],
   "source": [
    "def cleaned_dataframe(df,lis):\n",
    "    lis = sorted(set(lis))\n",
    "    df = df.drop(lis)\n",
    "    return df"
   ]
  },
  {
   "cell_type": "markdown",
   "id": "274bf7eb",
   "metadata": {},
   "source": [
    "calling the above function"
   ]
  },
  {
   "cell_type": "code",
   "execution_count": 22,
   "id": "99a09f9f",
   "metadata": {},
   "outputs": [
    {
     "data": {
      "text/html": [
       "<div>\n",
       "<style scoped>\n",
       "    .dataframe tbody tr th:only-of-type {\n",
       "        vertical-align: middle;\n",
       "    }\n",
       "\n",
       "    .dataframe tbody tr th {\n",
       "        vertical-align: top;\n",
       "    }\n",
       "\n",
       "    .dataframe thead th {\n",
       "        text-align: right;\n",
       "    }\n",
       "</style>\n",
       "<table border=\"1\" class=\"dataframe\">\n",
       "  <thead>\n",
       "    <tr style=\"text-align: right;\">\n",
       "      <th></th>\n",
       "      <th>longitude</th>\n",
       "      <th>latitude</th>\n",
       "      <th>housing_median_age</th>\n",
       "      <th>total_rooms</th>\n",
       "      <th>total_bedrooms</th>\n",
       "      <th>population</th>\n",
       "      <th>households</th>\n",
       "      <th>median_income</th>\n",
       "      <th>median_house_value</th>\n",
       "      <th>ocean_proximity</th>\n",
       "    </tr>\n",
       "  </thead>\n",
       "  <tbody>\n",
       "    <tr>\n",
       "      <th>2</th>\n",
       "      <td>-122.24</td>\n",
       "      <td>37.85</td>\n",
       "      <td>52.0</td>\n",
       "      <td>1467.0</td>\n",
       "      <td>190.0</td>\n",
       "      <td>496.0</td>\n",
       "      <td>177.0</td>\n",
       "      <td>7.2574</td>\n",
       "      <td>352100.0</td>\n",
       "      <td>NEAR BAY</td>\n",
       "    </tr>\n",
       "    <tr>\n",
       "      <th>3</th>\n",
       "      <td>-122.25</td>\n",
       "      <td>37.85</td>\n",
       "      <td>52.0</td>\n",
       "      <td>1274.0</td>\n",
       "      <td>235.0</td>\n",
       "      <td>558.0</td>\n",
       "      <td>219.0</td>\n",
       "      <td>5.6431</td>\n",
       "      <td>341300.0</td>\n",
       "      <td>NEAR BAY</td>\n",
       "    </tr>\n",
       "    <tr>\n",
       "      <th>4</th>\n",
       "      <td>-122.25</td>\n",
       "      <td>37.85</td>\n",
       "      <td>52.0</td>\n",
       "      <td>1627.0</td>\n",
       "      <td>280.0</td>\n",
       "      <td>565.0</td>\n",
       "      <td>259.0</td>\n",
       "      <td>3.8462</td>\n",
       "      <td>342200.0</td>\n",
       "      <td>NEAR BAY</td>\n",
       "    </tr>\n",
       "    <tr>\n",
       "      <th>5</th>\n",
       "      <td>-122.25</td>\n",
       "      <td>37.85</td>\n",
       "      <td>52.0</td>\n",
       "      <td>919.0</td>\n",
       "      <td>213.0</td>\n",
       "      <td>413.0</td>\n",
       "      <td>193.0</td>\n",
       "      <td>4.0368</td>\n",
       "      <td>269700.0</td>\n",
       "      <td>NEAR BAY</td>\n",
       "    </tr>\n",
       "    <tr>\n",
       "      <th>6</th>\n",
       "      <td>-122.25</td>\n",
       "      <td>37.84</td>\n",
       "      <td>52.0</td>\n",
       "      <td>2535.0</td>\n",
       "      <td>489.0</td>\n",
       "      <td>1094.0</td>\n",
       "      <td>514.0</td>\n",
       "      <td>3.6591</td>\n",
       "      <td>299200.0</td>\n",
       "      <td>NEAR BAY</td>\n",
       "    </tr>\n",
       "    <tr>\n",
       "      <th>...</th>\n",
       "      <td>...</td>\n",
       "      <td>...</td>\n",
       "      <td>...</td>\n",
       "      <td>...</td>\n",
       "      <td>...</td>\n",
       "      <td>...</td>\n",
       "      <td>...</td>\n",
       "      <td>...</td>\n",
       "      <td>...</td>\n",
       "      <td>...</td>\n",
       "    </tr>\n",
       "    <tr>\n",
       "      <th>20635</th>\n",
       "      <td>-121.09</td>\n",
       "      <td>39.48</td>\n",
       "      <td>25.0</td>\n",
       "      <td>1665.0</td>\n",
       "      <td>374.0</td>\n",
       "      <td>845.0</td>\n",
       "      <td>330.0</td>\n",
       "      <td>1.5603</td>\n",
       "      <td>78100.0</td>\n",
       "      <td>INLAND</td>\n",
       "    </tr>\n",
       "    <tr>\n",
       "      <th>20636</th>\n",
       "      <td>-121.21</td>\n",
       "      <td>39.49</td>\n",
       "      <td>18.0</td>\n",
       "      <td>697.0</td>\n",
       "      <td>150.0</td>\n",
       "      <td>356.0</td>\n",
       "      <td>114.0</td>\n",
       "      <td>2.5568</td>\n",
       "      <td>77100.0</td>\n",
       "      <td>INLAND</td>\n",
       "    </tr>\n",
       "    <tr>\n",
       "      <th>20637</th>\n",
       "      <td>-121.22</td>\n",
       "      <td>39.43</td>\n",
       "      <td>17.0</td>\n",
       "      <td>2254.0</td>\n",
       "      <td>485.0</td>\n",
       "      <td>1007.0</td>\n",
       "      <td>433.0</td>\n",
       "      <td>1.7000</td>\n",
       "      <td>92300.0</td>\n",
       "      <td>INLAND</td>\n",
       "    </tr>\n",
       "    <tr>\n",
       "      <th>20638</th>\n",
       "      <td>-121.32</td>\n",
       "      <td>39.43</td>\n",
       "      <td>18.0</td>\n",
       "      <td>1860.0</td>\n",
       "      <td>409.0</td>\n",
       "      <td>741.0</td>\n",
       "      <td>349.0</td>\n",
       "      <td>1.8672</td>\n",
       "      <td>84700.0</td>\n",
       "      <td>INLAND</td>\n",
       "    </tr>\n",
       "    <tr>\n",
       "      <th>20639</th>\n",
       "      <td>-121.24</td>\n",
       "      <td>39.37</td>\n",
       "      <td>16.0</td>\n",
       "      <td>2785.0</td>\n",
       "      <td>616.0</td>\n",
       "      <td>1387.0</td>\n",
       "      <td>530.0</td>\n",
       "      <td>2.3886</td>\n",
       "      <td>89400.0</td>\n",
       "      <td>INLAND</td>\n",
       "    </tr>\n",
       "  </tbody>\n",
       "</table>\n",
       "<p>17609 rows × 10 columns</p>\n",
       "</div>"
      ],
      "text/plain": [
       "       longitude  latitude  housing_median_age  total_rooms  total_bedrooms  \\\n",
       "2        -122.24     37.85                52.0       1467.0           190.0   \n",
       "3        -122.25     37.85                52.0       1274.0           235.0   \n",
       "4        -122.25     37.85                52.0       1627.0           280.0   \n",
       "5        -122.25     37.85                52.0        919.0           213.0   \n",
       "6        -122.25     37.84                52.0       2535.0           489.0   \n",
       "...          ...       ...                 ...          ...             ...   \n",
       "20635    -121.09     39.48                25.0       1665.0           374.0   \n",
       "20636    -121.21     39.49                18.0        697.0           150.0   \n",
       "20637    -121.22     39.43                17.0       2254.0           485.0   \n",
       "20638    -121.32     39.43                18.0       1860.0           409.0   \n",
       "20639    -121.24     39.37                16.0       2785.0           616.0   \n",
       "\n",
       "       population  households  median_income  median_house_value  \\\n",
       "2           496.0       177.0         7.2574            352100.0   \n",
       "3           558.0       219.0         5.6431            341300.0   \n",
       "4           565.0       259.0         3.8462            342200.0   \n",
       "5           413.0       193.0         4.0368            269700.0   \n",
       "6          1094.0       514.0         3.6591            299200.0   \n",
       "...           ...         ...            ...                 ...   \n",
       "20635       845.0       330.0         1.5603             78100.0   \n",
       "20636       356.0       114.0         2.5568             77100.0   \n",
       "20637      1007.0       433.0         1.7000             92300.0   \n",
       "20638       741.0       349.0         1.8672             84700.0   \n",
       "20639      1387.0       530.0         2.3886             89400.0   \n",
       "\n",
       "      ocean_proximity  \n",
       "2            NEAR BAY  \n",
       "3            NEAR BAY  \n",
       "4            NEAR BAY  \n",
       "5            NEAR BAY  \n",
       "6            NEAR BAY  \n",
       "...               ...  \n",
       "20635          INLAND  \n",
       "20636          INLAND  \n",
       "20637          INLAND  \n",
       "20638          INLAND  \n",
       "20639          INLAND  \n",
       "\n",
       "[17609 rows x 10 columns]"
      ]
     },
     "execution_count": 22,
     "metadata": {},
     "output_type": "execute_result"
    }
   ],
   "source": [
    "clean_df = cleaned_dataframe(df,list_res)\n",
    "clean_df\n"
   ]
  },
  {
   "cell_type": "code",
   "execution_count": 23,
   "id": "f0077e7a",
   "metadata": {},
   "outputs": [
    {
     "name": "stdout",
     "output_type": "stream",
     "text": [
      "new shape after remvoing outliers:  (17609, 10)\n"
     ]
    }
   ],
   "source": [
    "print(\"new shape after remvoing outliers: \",clean_df.shape)"
   ]
  },
  {
   "cell_type": "markdown",
   "id": "01be8d5f",
   "metadata": {},
   "source": [
    "### 3.4 Encode the categorical variable ocean proximity using Label encoder or One hot encoder"
   ]
  },
  {
   "cell_type": "markdown",
   "id": "c3ed5e15",
   "metadata": {},
   "source": [
    "Using label encoding to encode ocean proximity"
   ]
  },
  {
   "cell_type": "code",
   "execution_count": 24,
   "id": "82ccd060",
   "metadata": {},
   "outputs": [
    {
     "name": "stdout",
     "output_type": "stream",
     "text": [
      "dataset after doing label encoding on ocean_proximity : \n",
      "\n"
     ]
    },
    {
     "data": {
      "text/html": [
       "<div>\n",
       "<style scoped>\n",
       "    .dataframe tbody tr th:only-of-type {\n",
       "        vertical-align: middle;\n",
       "    }\n",
       "\n",
       "    .dataframe tbody tr th {\n",
       "        vertical-align: top;\n",
       "    }\n",
       "\n",
       "    .dataframe thead th {\n",
       "        text-align: right;\n",
       "    }\n",
       "</style>\n",
       "<table border=\"1\" class=\"dataframe\">\n",
       "  <thead>\n",
       "    <tr style=\"text-align: right;\">\n",
       "      <th></th>\n",
       "      <th>longitude</th>\n",
       "      <th>latitude</th>\n",
       "      <th>housing_median_age</th>\n",
       "      <th>total_rooms</th>\n",
       "      <th>total_bedrooms</th>\n",
       "      <th>population</th>\n",
       "      <th>households</th>\n",
       "      <th>median_income</th>\n",
       "      <th>median_house_value</th>\n",
       "      <th>ocean_proximity</th>\n",
       "    </tr>\n",
       "  </thead>\n",
       "  <tbody>\n",
       "    <tr>\n",
       "      <th>2</th>\n",
       "      <td>-122.24</td>\n",
       "      <td>37.85</td>\n",
       "      <td>52.0</td>\n",
       "      <td>1467.0</td>\n",
       "      <td>190.0</td>\n",
       "      <td>496.0</td>\n",
       "      <td>177.0</td>\n",
       "      <td>7.2574</td>\n",
       "      <td>352100.0</td>\n",
       "      <td>3</td>\n",
       "    </tr>\n",
       "    <tr>\n",
       "      <th>3</th>\n",
       "      <td>-122.25</td>\n",
       "      <td>37.85</td>\n",
       "      <td>52.0</td>\n",
       "      <td>1274.0</td>\n",
       "      <td>235.0</td>\n",
       "      <td>558.0</td>\n",
       "      <td>219.0</td>\n",
       "      <td>5.6431</td>\n",
       "      <td>341300.0</td>\n",
       "      <td>3</td>\n",
       "    </tr>\n",
       "    <tr>\n",
       "      <th>4</th>\n",
       "      <td>-122.25</td>\n",
       "      <td>37.85</td>\n",
       "      <td>52.0</td>\n",
       "      <td>1627.0</td>\n",
       "      <td>280.0</td>\n",
       "      <td>565.0</td>\n",
       "      <td>259.0</td>\n",
       "      <td>3.8462</td>\n",
       "      <td>342200.0</td>\n",
       "      <td>3</td>\n",
       "    </tr>\n",
       "    <tr>\n",
       "      <th>5</th>\n",
       "      <td>-122.25</td>\n",
       "      <td>37.85</td>\n",
       "      <td>52.0</td>\n",
       "      <td>919.0</td>\n",
       "      <td>213.0</td>\n",
       "      <td>413.0</td>\n",
       "      <td>193.0</td>\n",
       "      <td>4.0368</td>\n",
       "      <td>269700.0</td>\n",
       "      <td>3</td>\n",
       "    </tr>\n",
       "    <tr>\n",
       "      <th>6</th>\n",
       "      <td>-122.25</td>\n",
       "      <td>37.84</td>\n",
       "      <td>52.0</td>\n",
       "      <td>2535.0</td>\n",
       "      <td>489.0</td>\n",
       "      <td>1094.0</td>\n",
       "      <td>514.0</td>\n",
       "      <td>3.6591</td>\n",
       "      <td>299200.0</td>\n",
       "      <td>3</td>\n",
       "    </tr>\n",
       "    <tr>\n",
       "      <th>...</th>\n",
       "      <td>...</td>\n",
       "      <td>...</td>\n",
       "      <td>...</td>\n",
       "      <td>...</td>\n",
       "      <td>...</td>\n",
       "      <td>...</td>\n",
       "      <td>...</td>\n",
       "      <td>...</td>\n",
       "      <td>...</td>\n",
       "      <td>...</td>\n",
       "    </tr>\n",
       "    <tr>\n",
       "      <th>20635</th>\n",
       "      <td>-121.09</td>\n",
       "      <td>39.48</td>\n",
       "      <td>25.0</td>\n",
       "      <td>1665.0</td>\n",
       "      <td>374.0</td>\n",
       "      <td>845.0</td>\n",
       "      <td>330.0</td>\n",
       "      <td>1.5603</td>\n",
       "      <td>78100.0</td>\n",
       "      <td>1</td>\n",
       "    </tr>\n",
       "    <tr>\n",
       "      <th>20636</th>\n",
       "      <td>-121.21</td>\n",
       "      <td>39.49</td>\n",
       "      <td>18.0</td>\n",
       "      <td>697.0</td>\n",
       "      <td>150.0</td>\n",
       "      <td>356.0</td>\n",
       "      <td>114.0</td>\n",
       "      <td>2.5568</td>\n",
       "      <td>77100.0</td>\n",
       "      <td>1</td>\n",
       "    </tr>\n",
       "    <tr>\n",
       "      <th>20637</th>\n",
       "      <td>-121.22</td>\n",
       "      <td>39.43</td>\n",
       "      <td>17.0</td>\n",
       "      <td>2254.0</td>\n",
       "      <td>485.0</td>\n",
       "      <td>1007.0</td>\n",
       "      <td>433.0</td>\n",
       "      <td>1.7000</td>\n",
       "      <td>92300.0</td>\n",
       "      <td>1</td>\n",
       "    </tr>\n",
       "    <tr>\n",
       "      <th>20638</th>\n",
       "      <td>-121.32</td>\n",
       "      <td>39.43</td>\n",
       "      <td>18.0</td>\n",
       "      <td>1860.0</td>\n",
       "      <td>409.0</td>\n",
       "      <td>741.0</td>\n",
       "      <td>349.0</td>\n",
       "      <td>1.8672</td>\n",
       "      <td>84700.0</td>\n",
       "      <td>1</td>\n",
       "    </tr>\n",
       "    <tr>\n",
       "      <th>20639</th>\n",
       "      <td>-121.24</td>\n",
       "      <td>39.37</td>\n",
       "      <td>16.0</td>\n",
       "      <td>2785.0</td>\n",
       "      <td>616.0</td>\n",
       "      <td>1387.0</td>\n",
       "      <td>530.0</td>\n",
       "      <td>2.3886</td>\n",
       "      <td>89400.0</td>\n",
       "      <td>1</td>\n",
       "    </tr>\n",
       "  </tbody>\n",
       "</table>\n",
       "<p>17609 rows × 10 columns</p>\n",
       "</div>"
      ],
      "text/plain": [
       "       longitude  latitude  housing_median_age  total_rooms  total_bedrooms  \\\n",
       "2        -122.24     37.85                52.0       1467.0           190.0   \n",
       "3        -122.25     37.85                52.0       1274.0           235.0   \n",
       "4        -122.25     37.85                52.0       1627.0           280.0   \n",
       "5        -122.25     37.85                52.0        919.0           213.0   \n",
       "6        -122.25     37.84                52.0       2535.0           489.0   \n",
       "...          ...       ...                 ...          ...             ...   \n",
       "20635    -121.09     39.48                25.0       1665.0           374.0   \n",
       "20636    -121.21     39.49                18.0        697.0           150.0   \n",
       "20637    -121.22     39.43                17.0       2254.0           485.0   \n",
       "20638    -121.32     39.43                18.0       1860.0           409.0   \n",
       "20639    -121.24     39.37                16.0       2785.0           616.0   \n",
       "\n",
       "       population  households  median_income  median_house_value  \\\n",
       "2           496.0       177.0         7.2574            352100.0   \n",
       "3           558.0       219.0         5.6431            341300.0   \n",
       "4           565.0       259.0         3.8462            342200.0   \n",
       "5           413.0       193.0         4.0368            269700.0   \n",
       "6          1094.0       514.0         3.6591            299200.0   \n",
       "...           ...         ...            ...                 ...   \n",
       "20635       845.0       330.0         1.5603             78100.0   \n",
       "20636       356.0       114.0         2.5568             77100.0   \n",
       "20637      1007.0       433.0         1.7000             92300.0   \n",
       "20638       741.0       349.0         1.8672             84700.0   \n",
       "20639      1387.0       530.0         2.3886             89400.0   \n",
       "\n",
       "       ocean_proximity  \n",
       "2                    3  \n",
       "3                    3  \n",
       "4                    3  \n",
       "5                    3  \n",
       "6                    3  \n",
       "...                ...  \n",
       "20635                1  \n",
       "20636                1  \n",
       "20637                1  \n",
       "20638                1  \n",
       "20639                1  \n",
       "\n",
       "[17609 rows x 10 columns]"
      ]
     },
     "execution_count": 24,
     "metadata": {},
     "output_type": "execute_result"
    }
   ],
   "source": [
    "from sklearn import preprocessing\n",
    "\n",
    "label_encoder = preprocessing.LabelEncoder()\n",
    "\n",
    "clean_df.ocean_proximity= label_encoder.fit_transform(clean_df.ocean_proximity)\n",
    "\n",
    "print(\"dataset after doing label encoding on ocean_proximity : \\n\")\n",
    "clean_df"
   ]
  },
  {
   "cell_type": "markdown",
   "id": "60e74859",
   "metadata": {},
   "source": [
    "observation - each of the 4 sub category in ocean_proximity is labeled as 1,2,3 or 4"
   ]
  },
  {
   "cell_type": "markdown",
   "id": "87b0f8d3",
   "metadata": {},
   "source": [
    "(OR) - used one hot encoding too. represents 0 or 1. 0 - when that category isn't present. 1 - when that category is present in that row"
   ]
  },
  {
   "cell_type": "code",
   "execution_count": 25,
   "id": "395a1e84",
   "metadata": {},
   "outputs": [
    {
     "name": "stdout",
     "output_type": "stream",
     "text": [
      "['NEAR BAY', '<1H OCEAN', 'INLAND', 'NEAR OCEAN', 'ISLAND']\n",
      "Categories (5, object): ['<1H OCEAN', 'INLAND', 'ISLAND', 'NEAR BAY', 'NEAR OCEAN']\n",
      "<1H OCEAN     9136\n",
      "INLAND        6551\n",
      "NEAR OCEAN    2658\n",
      "NEAR BAY      2290\n",
      "ISLAND           5\n",
      "Name: ocean_proximity, dtype: int64\n",
      "       longitude  latitude  housing_median_age  total_rooms  total_bedrooms  \\\n",
      "20635    -121.09     39.48                25.0       1665.0           374.0   \n",
      "20636    -121.21     39.49                18.0        697.0           150.0   \n",
      "20637    -121.22     39.43                17.0       2254.0           485.0   \n",
      "20638    -121.32     39.43                18.0       1860.0           409.0   \n",
      "20639    -121.24     39.37                16.0       2785.0           616.0   \n",
      "\n",
      "       population  households  median_income  median_house_value  \\\n",
      "20635       845.0       330.0         1.5603             78100.0   \n",
      "20636       356.0       114.0         2.5568             77100.0   \n",
      "20637      1007.0       433.0         1.7000             92300.0   \n",
      "20638       741.0       349.0         1.8672             84700.0   \n",
      "20639      1387.0       530.0         2.3886             89400.0   \n",
      "\n",
      "       ocean_proximity_<1H OCEAN  ocean_proximity_INLAND  \\\n",
      "20635                          0                       1   \n",
      "20636                          0                       1   \n",
      "20637                          0                       1   \n",
      "20638                          0                       1   \n",
      "20639                          0                       1   \n",
      "\n",
      "       ocean_proximity_ISLAND  ocean_proximity_NEAR BAY  \\\n",
      "20635                       0                         0   \n",
      "20636                       0                         0   \n",
      "20637                       0                         0   \n",
      "20638                       0                         0   \n",
      "20639                       0                         0   \n",
      "\n",
      "       ocean_proximity_NEAR OCEAN  \n",
      "20635                           0  \n",
      "20636                           0  \n",
      "20637                           0  \n",
      "20638                           0  \n",
      "20639                           0  \n"
     ]
    }
   ],
   "source": [
    "print(df['ocean_proximity'].unique())\n",
    "\n",
    "print(df['ocean_proximity'].value_counts())\n",
    "\n",
    "\n",
    "onehot_encode = pd.get_dummies(df, columns = ['ocean_proximity'])\n",
    "print(onehot_encode.tail())"
   ]
  },
  {
   "cell_type": "markdown",
   "id": "8f0bbb51",
   "metadata": {},
   "source": [
    "Conclusion - Will consider label encoding as it has only one column"
   ]
  },
  {
   "cell_type": "markdown",
   "id": "8b87f168",
   "metadata": {},
   "source": [
    "## Section 4. Splitting the dataset"
   ]
  },
  {
   "cell_type": "markdown",
   "id": "415e6d51",
   "metadata": {},
   "source": [
    "### 4.1 Store the values of median_house_value feature in a variable named ‘target’ and then drop the feature from the dataframe.  After this step you should have shape of df as 20640 x 9"
   ]
  },
  {
   "cell_type": "code",
   "execution_count": 26,
   "id": "669d6ebb",
   "metadata": {},
   "outputs": [
    {
     "name": "stdout",
     "output_type": "stream",
     "text": [
      "2        352100.0\n",
      "3        341300.0\n",
      "4        342200.0\n",
      "5        269700.0\n",
      "6        299200.0\n",
      "           ...   \n",
      "20635     78100.0\n",
      "20636     77100.0\n",
      "20637     92300.0\n",
      "20638     84700.0\n",
      "20639     89400.0\n",
      "Name: median_house_value, Length: 17609, dtype: float64\n",
      "\n",
      "       longitude  latitude  housing_median_age  total_rooms  total_bedrooms  \\\n",
      "2        -122.24     37.85                52.0       1467.0           190.0   \n",
      "3        -122.25     37.85                52.0       1274.0           235.0   \n",
      "4        -122.25     37.85                52.0       1627.0           280.0   \n",
      "5        -122.25     37.85                52.0        919.0           213.0   \n",
      "6        -122.25     37.84                52.0       2535.0           489.0   \n",
      "...          ...       ...                 ...          ...             ...   \n",
      "20635    -121.09     39.48                25.0       1665.0           374.0   \n",
      "20636    -121.21     39.49                18.0        697.0           150.0   \n",
      "20637    -121.22     39.43                17.0       2254.0           485.0   \n",
      "20638    -121.32     39.43                18.0       1860.0           409.0   \n",
      "20639    -121.24     39.37                16.0       2785.0           616.0   \n",
      "\n",
      "       population  households  median_income  ocean_proximity  \n",
      "2           496.0       177.0         7.2574                3  \n",
      "3           558.0       219.0         5.6431                3  \n",
      "4           565.0       259.0         3.8462                3  \n",
      "5           413.0       193.0         4.0368                3  \n",
      "6          1094.0       514.0         3.6591                3  \n",
      "...           ...         ...            ...              ...  \n",
      "20635       845.0       330.0         1.5603                1  \n",
      "20636       356.0       114.0         2.5568                1  \n",
      "20637      1007.0       433.0         1.7000                1  \n",
      "20638       741.0       349.0         1.8672                1  \n",
      "20639      1387.0       530.0         2.3886                1  \n",
      "\n",
      "[17609 rows x 9 columns]\n"
     ]
    }
   ],
   "source": [
    "target=clean_df['median_house_value']\n",
    "clean_df=clean_df.drop(['median_house_value'],axis=1)\n",
    "print(target)\n",
    "print()\n",
    "print(clean_df)"
   ]
  },
  {
   "cell_type": "code",
   "execution_count": 27,
   "id": "ceb7ee4b",
   "metadata": {},
   "outputs": [
    {
     "name": "stdout",
     "output_type": "stream",
     "text": [
      "(17609, 9)\n"
     ]
    }
   ],
   "source": [
    "print(clean_df.shape)"
   ]
  },
  {
   "cell_type": "markdown",
   "id": "f1beb841",
   "metadata": {},
   "source": [
    "rows is 17609 instead of 20640 because outliers are removed from the dataset"
   ]
  },
  {
   "cell_type": "markdown",
   "id": "a808b031",
   "metadata": {},
   "source": [
    "### 4.2 Split df into X_train and X_test with test ratio 0.2. Similar create y_train and y_test"
   ]
  },
  {
   "cell_type": "markdown",
   "id": "1e5415d6",
   "metadata": {},
   "source": [
    "80% of x_train used for training data and 20% x_test used for testing data.\n",
    "\n",
    "similary, y_train and y_test has same split and takes 'target' which contains median house value"
   ]
  },
  {
   "cell_type": "code",
   "execution_count": 28,
   "id": "d0dc944a",
   "metadata": {},
   "outputs": [],
   "source": [
    "from sklearn.model_selection import train_test_split\n",
    "\n",
    "x_train , x_test , y_train , y_test = train_test_split(clean_df , target , test_size=0.20)"
   ]
  },
  {
   "cell_type": "code",
   "execution_count": 29,
   "id": "3b9613fc",
   "metadata": {},
   "outputs": [
    {
     "name": "stdout",
     "output_type": "stream",
     "text": [
      "number of x training examples:  (14087, 9)\n",
      "number of x testing examples:  (3522, 9)\n",
      "number of y training examples:  (14087,)\n",
      "number of y testing examples:  (3522,)\n"
     ]
    }
   ],
   "source": [
    "print(\"number of x training examples: \", x_train.shape)\n",
    "print(\"number of x testing examples: \", x_test.shape)\n",
    "print(\"number of y training examples: \", y_train.shape)\n",
    "print(\"number of y testing examples: \", y_test.shape)"
   ]
  },
  {
   "cell_type": "markdown",
   "id": "a604a4be",
   "metadata": {},
   "source": [
    "### 4.3 Plot histogram distribution of y_train and y_test and check whether they follow similar distribution"
   ]
  },
  {
   "cell_type": "code",
   "execution_count": 30,
   "id": "9da7039f",
   "metadata": {},
   "outputs": [
    {
     "data": {
      "text/plain": [
       "<AxesSubplot:>"
      ]
     },
     "execution_count": 30,
     "metadata": {},
     "output_type": "execute_result"
    },
    {
     "data": {
      "image/png": "[encoded data removed]",
      "text/plain": [
       "<Figure size 1080x504 with 1 Axes>"
      ]
     },
     "metadata": {
      "needs_background": "light"
     },
     "output_type": "display_data"
    }
   ],
   "source": [
    "y_train.hist(figsize=(15,7), bins=25, rwidth=0.9, grid=False)"
   ]
  },
  {
   "cell_type": "code",
   "execution_count": 31,
   "id": "6dec5360",
   "metadata": {},
   "outputs": [
    {
     "data": {
      "text/plain": [
       "<AxesSubplot:>"
      ]
     },
     "execution_count": 31,
     "metadata": {},
     "output_type": "execute_result"
    },
    {
     "data": {
      "image/png": "[encoded data removed]",
      "text/plain": [
       "<Figure size 1080x504 with 1 Axes>"
      ]
     },
     "metadata": {
      "needs_background": "light"
     },
     "output_type": "display_data"
    }
   ],
   "source": [
    "y_test.hist(figsize=(15,7), bins=25, rwidth=0.9, grid=False)"
   ]
  },
  {
   "cell_type": "markdown",
   "id": "cb03729f",
   "metadata": {},
   "source": [
    "observation - both y_train and y_test follow similar distribution (increases and decreases almost similarly) as seen in histogram"
   ]
  },
  {
   "cell_type": "markdown",
   "id": "1121a6a0",
   "metadata": {},
   "source": [
    "## Section 5. Training the model"
   ]
  },
  {
   "cell_type": "markdown",
   "id": "2611ae6a",
   "metadata": {},
   "source": [
    "### 5.1 Define a Linear regression model and fit(train) the model only on train data"
   ]
  },
  {
   "cell_type": "code",
   "execution_count": 32,
   "id": "2e54fdae",
   "metadata": {},
   "outputs": [],
   "source": [
    "from sklearn.linear_model import LinearRegression"
   ]
  },
  {
   "cell_type": "code",
   "execution_count": 33,
   "id": "e5ceaf8d",
   "metadata": {},
   "outputs": [
    {
     "data": {
      "text/plain": [
       "LinearRegression()"
      ]
     },
     "execution_count": 33,
     "metadata": {},
     "output_type": "execute_result"
    }
   ],
   "source": [
    "model = LinearRegression()\n",
    "model.fit(x_train,y_train)\n"
   ]
  },
  {
   "cell_type": "markdown",
   "id": "28e844d5",
   "metadata": {},
   "source": [
    "Performing model prediction on the test data"
   ]
  },
  {
   "cell_type": "code",
   "execution_count": 34,
   "id": "013165ef",
   "metadata": {},
   "outputs": [],
   "source": [
    "y_pred = model.predict(x_test)"
   ]
  },
  {
   "cell_type": "markdown",
   "id": "62629cbf",
   "metadata": {},
   "source": [
    "### 5.2 Compute the mean_squared_error and R square error on train_data and test_data for the model and write your observations on the performance of the model"
   ]
  },
  {
   "cell_type": "code",
   "execution_count": 35,
   "id": "cb2bda19",
   "metadata": {},
   "outputs": [],
   "source": [
    "from sklearn.metrics import mean_squared_error\n",
    "import numpy as np"
   ]
  },
  {
   "cell_type": "code",
   "execution_count": 36,
   "id": "bbc81ee1",
   "metadata": {},
   "outputs": [
    {
     "data": {
      "text/plain": [
       "3455622260.842298"
      ]
     },
     "execution_count": 36,
     "metadata": {},
     "output_type": "execute_result"
    }
   ],
   "source": [
    "mean_squared_error(y_test, y_pred)"
   ]
  },
  {
   "cell_type": "code",
   "execution_count": 37,
   "id": "398570af",
   "metadata": {},
   "outputs": [],
   "source": [
    "from sklearn.metrics import r2_score"
   ]
  },
  {
   "cell_type": "code",
   "execution_count": 38,
   "id": "d2698ba6",
   "metadata": {},
   "outputs": [
    {
     "data": {
      "text/plain": [
       "0.6106088301839026"
      ]
     },
     "execution_count": 38,
     "metadata": {},
     "output_type": "execute_result"
    }
   ],
   "source": [
    "r2_score(y_test,y_pred)"
   ]
  },
  {
   "cell_type": "markdown",
   "id": "0434e93b",
   "metadata": {},
   "source": [
    "observation - \n",
    "- data fairly fits the regression model (the goodness of fit) since r2 is more than 0.5\n",
    "- However, MSE is very high"
   ]
  },
  {
   "cell_type": "markdown",
   "id": "18cad53f",
   "metadata": {},
   "source": [
    "## Section 6. Feature importance and Feature selection"
   ]
  },
  {
   "cell_type": "markdown",
   "id": "cc1a7f8a",
   "metadata": {},
   "source": [
    "### 6.1 Find top 3 features which are most useful in predicting the median_house_value"
   ]
  },
  {
   "cell_type": "code",
   "execution_count": 48,
   "id": "8cf3d1a4",
   "metadata": {},
   "outputs": [
    {
     "data": {
      "text/html": [
       "<div>\n",
       "<style scoped>\n",
       "    .dataframe tbody tr th:only-of-type {\n",
       "        vertical-align: middle;\n",
       "    }\n",
       "\n",
       "    .dataframe tbody tr th {\n",
       "        vertical-align: top;\n",
       "    }\n",
       "\n",
       "    .dataframe thead th {\n",
       "        text-align: right;\n",
       "    }\n",
       "</style>\n",
       "<table border=\"1\" class=\"dataframe\">\n",
       "  <thead>\n",
       "    <tr style=\"text-align: right;\">\n",
       "      <th></th>\n",
       "      <th>Coeff</th>\n",
       "    </tr>\n",
       "  </thead>\n",
       "  <tbody>\n",
       "    <tr>\n",
       "      <th>longitude</th>\n",
       "      <td>-37931.609374</td>\n",
       "    </tr>\n",
       "    <tr>\n",
       "      <th>latitude</th>\n",
       "      <td>-37627.842459</td>\n",
       "    </tr>\n",
       "    <tr>\n",
       "      <th>housing_median_age</th>\n",
       "      <td>1004.102905</td>\n",
       "    </tr>\n",
       "    <tr>\n",
       "      <th>total_rooms</th>\n",
       "      <td>-17.036019</td>\n",
       "    </tr>\n",
       "    <tr>\n",
       "      <th>total_bedrooms</th>\n",
       "      <td>166.044683</td>\n",
       "    </tr>\n",
       "    <tr>\n",
       "      <th>population</th>\n",
       "      <td>-61.952216</td>\n",
       "    </tr>\n",
       "    <tr>\n",
       "      <th>households</th>\n",
       "      <td>109.324616</td>\n",
       "    </tr>\n",
       "    <tr>\n",
       "      <th>median_income</th>\n",
       "      <td>40998.422626</td>\n",
       "    </tr>\n",
       "    <tr>\n",
       "      <th>ocean_proximity</th>\n",
       "      <td>-1509.693891</td>\n",
       "    </tr>\n",
       "  </tbody>\n",
       "</table>\n",
       "</div>"
      ],
      "text/plain": [
       "                           Coeff\n",
       "longitude          -37931.609374\n",
       "latitude           -37627.842459\n",
       "housing_median_age   1004.102905\n",
       "total_rooms           -17.036019\n",
       "total_bedrooms        166.044683\n",
       "population            -61.952216\n",
       "households            109.324616\n",
       "median_income       40998.422626\n",
       "ocean_proximity     -1509.693891"
      ]
     },
     "execution_count": 48,
     "metadata": {},
     "output_type": "execute_result"
    }
   ],
   "source": [
    "pd.DataFrame(model.coef_, clean_df.columns, columns = ['Coeff'])"
   ]
  },
  {
   "cell_type": "markdown",
   "id": "9a17c687",
   "metadata": {},
   "source": [
    "top 3 features based on Coefficient values- median income , housing median age and total bedrooms"
   ]
  },
  {
   "cell_type": "markdown",
   "id": "2a132378",
   "metadata": {},
   "source": [
    "or"
   ]
  },
  {
   "cell_type": "markdown",
   "id": "e553c983",
   "metadata": {},
   "source": [
    "top 3 feature selection using selectkbest and mutual_info_classif library"
   ]
  },
  {
   "cell_type": "code",
   "execution_count": 49,
   "id": "fd7bc9e6",
   "metadata": {},
   "outputs": [
    {
     "data": {
      "text/plain": [
       "array([0.11701378, 0.11650488, 0.03278261, 0.09538262, 0.06167394,\n",
       "       0.06665542, 0.06762819, 0.33069071, 1.00203424])"
      ]
     },
     "execution_count": 49,
     "metadata": {},
     "output_type": "execute_result"
    }
   ],
   "source": [
    "from sklearn.feature_selection import mutual_info_classif\n",
    "# determine the mutual information\n",
    "mutual_info = mutual_info_classif(x_train, y_train)\n",
    "mutual_info"
   ]
  },
  {
   "cell_type": "code",
   "execution_count": 50,
   "id": "369bd976",
   "metadata": {
    "scrolled": true
   },
   "outputs": [
    {
     "data": {
      "text/plain": [
       "Index(['latitude', 'median_income', 'ocean_proximity'], dtype='object')"
      ]
     },
     "execution_count": 50,
     "metadata": {},
     "output_type": "execute_result"
    }
   ],
   "source": [
    "from sklearn.feature_selection import SelectKBest\n",
    "#Now we Will select the top 3 important features\n",
    "sel_three_cols = SelectKBest(mutual_info_classif, k=3)\n",
    "sel_three_cols.fit(x_train, y_train)\n",
    "x_train.columns[sel_three_cols.get_support()]"
   ]
  },
  {
   "cell_type": "markdown",
   "id": "57b8586b",
   "metadata": {},
   "source": [
    "observation - hence top 3 features are latitude , median income and ocean proximity useful for predicting median house value"
   ]
  },
  {
   "cell_type": "markdown",
   "id": "3440c45e",
   "metadata": {},
   "source": [
    "- Note - considering best 3 features based on coeff value"
   ]
  },
  {
   "cell_type": "markdown",
   "id": "ebddd402",
   "metadata": {},
   "source": [
    "### 6.2 Drop all other features and train your model using only these 3 features and compute the R square and mean_squared_error"
   ]
  },
  {
   "cell_type": "code",
   "execution_count": 51,
   "id": "58e672b0",
   "metadata": {},
   "outputs": [
    {
     "name": "stdout",
     "output_type": "stream",
     "text": [
      "       housing_median_age  total_bedrooms  median_income\n",
      "2                    52.0           190.0         7.2574\n",
      "3                    52.0           235.0         5.6431\n",
      "4                    52.0           280.0         3.8462\n",
      "5                    52.0           213.0         4.0368\n",
      "6                    52.0           489.0         3.6591\n",
      "...                   ...             ...            ...\n",
      "20635                25.0           374.0         1.5603\n",
      "20636                18.0           150.0         2.5568\n",
      "20637                17.0           485.0         1.7000\n",
      "20638                18.0           409.0         1.8672\n",
      "20639                16.0           616.0         2.3886\n",
      "\n",
      "[17609 rows x 3 columns]\n"
     ]
    }
   ],
   "source": [
    "clean_df=clean_df.drop(columns=['longitude','latitude','total_rooms','population','households','ocean_proximity'])\n",
    "print(clean_df)"
   ]
  },
  {
   "cell_type": "code",
   "execution_count": 52,
   "id": "8299d93e",
   "metadata": {},
   "outputs": [
    {
     "name": "stdout",
     "output_type": "stream",
     "text": [
      "number of x training examples:  (14087, 3)\n",
      "number of x testing examples:  (3522, 3)\n",
      "number of y training examples:  (14087,)\n",
      "number of y testing examples:  (3522,)\n"
     ]
    }
   ],
   "source": [
    "x_train1 , x_test1 , y_train1 , y_test1 = train_test_split(clean_df , target , test_size=0.20)\n",
    "\n",
    "print(\"number of x training examples: \", x_train1.shape)\n",
    "print(\"number of x testing examples: \", x_test1.shape)\n",
    "print(\"number of y training examples: \", y_train1.shape)\n",
    "print(\"number of y testing examples: \", y_test1.shape)"
   ]
  },
  {
   "cell_type": "code",
   "execution_count": 53,
   "id": "0f87c466",
   "metadata": {},
   "outputs": [
    {
     "data": {
      "text/plain": [
       "LinearRegression()"
      ]
     },
     "execution_count": 53,
     "metadata": {},
     "output_type": "execute_result"
    }
   ],
   "source": [
    "model.fit(x_train1,y_train1)"
   ]
  },
  {
   "cell_type": "code",
   "execution_count": 54,
   "id": "7b0ad7f9",
   "metadata": {},
   "outputs": [],
   "source": [
    "y_pred1 = model.predict(x_test1)"
   ]
  },
  {
   "cell_type": "code",
   "execution_count": 55,
   "id": "6d2d5c41",
   "metadata": {},
   "outputs": [
    {
     "data": {
      "text/plain": [
       "4893919785.447076"
      ]
     },
     "execution_count": 55,
     "metadata": {},
     "output_type": "execute_result"
    }
   ],
   "source": [
    "mean_squared_error(y_test1,y_pred1)"
   ]
  },
  {
   "cell_type": "code",
   "execution_count": 56,
   "id": "8fd73eae",
   "metadata": {},
   "outputs": [
    {
     "data": {
      "text/plain": [
       "0.45922077588086785"
      ]
     },
     "execution_count": 56,
     "metadata": {},
     "output_type": "execute_result"
    }
   ],
   "source": [
    "r2_score(y_test1,y_pred1)"
   ]
  },
  {
   "cell_type": "markdown",
   "id": "c4de1422",
   "metadata": {},
   "source": [
    "### 6.3 Compare the performance of the original model (using all the features) with the current model"
   ]
  },
  {
   "cell_type": "markdown",
   "id": "f2b7959c",
   "metadata": {},
   "source": [
    "on comparision of mse and r2 with original model (using all the features) with the current \n",
    "model. - I can note that original model has better performance with good mse and r2 values"
   ]
  },
  {
   "cell_type": "markdown",
   "id": "ccd625cf",
   "metadata": {},
   "source": [
    "Old data Linear regression line - "
   ]
  },
  {
   "cell_type": "code",
   "execution_count": 57,
   "id": "09c02ba1",
   "metadata": {},
   "outputs": [
    {
     "data": {
      "text/plain": [
       "[<matplotlib.lines.Line2D at 0x28377e01220>]"
      ]
     },
     "execution_count": 57,
     "metadata": {},
     "output_type": "execute_result"
    },
    {
     "data": {
      "image/png": "[encoded data removed]",
      "text/plain": [
       "<Figure size 432x288 with 1 Axes>"
      ]
     },
     "metadata": {
      "needs_background": "light"
     },
     "output_type": "display_data"
    }
   ],
   "source": [
    "#create basic scatterplot\n",
    "plt.plot(y_test, y_pred, 'o')\n",
    "\n",
    "#obtain m (slope) and b(intercept) of linear regression line\n",
    "m, b = np.polyfit(y_test, y_pred, 1)\n",
    "\n",
    "#add linear regression line to scatterplot \n",
    "plt.plot(y_test, m*y_test+b)"
   ]
  },
  {
   "cell_type": "markdown",
   "id": "46d2303e",
   "metadata": {},
   "source": [
    "New data linear regression line -"
   ]
  },
  {
   "cell_type": "code",
   "execution_count": 58,
   "id": "7af0d1f9",
   "metadata": {},
   "outputs": [
    {
     "data": {
      "text/plain": [
       "[<matplotlib.lines.Line2D at 0x28377e56760>]"
      ]
     },
     "execution_count": 58,
     "metadata": {},
     "output_type": "execute_result"
    },
    {
     "data": {
      "image/png": "[encoded data removed]",
      "text/plain": [
       "<Figure size 432x288 with 1 Axes>"
      ]
     },
     "metadata": {
      "needs_background": "light"
     },
     "output_type": "display_data"
    }
   ],
   "source": [
    "#create basic scatterplot\n",
    "plt.plot(y_test1, y_pred1, 'o')\n",
    "\n",
    "#obtain m (slope) and b(intercept) of linear regression line\n",
    "m, b = np.polyfit(y_test1, y_pred1, 1)\n",
    "\n",
    "#add linear regression line to scatterplot \n",
    "plt.plot(y_test1, m*y_test1+b)"
   ]
  },
  {
   "cell_type": "markdown",
   "id": "5fd14905",
   "metadata": {},
   "source": [
    "conclusion- \n",
    "- Old data (before keeping only 3 columns) is performing better. (has a better linear regression line)\n",
    "- R2 of older model is closer to 1 compared to newer model\n",
    "- MSE of older model is better compared to newer model\n",
    "\n",
    "### Hence, Older model is better than new model"
   ]
  }
 ],
 "metadata": {
  "kernelspec": {
   "display_name": "Python 3 (ipykernel)",
   "language": "python",
   "name": "python3"
  },
  "language_info": {
   "codemirror_mode": {
    "name": "ipython",
    "version": 3
   },
   "file_extension": ".py",
   "mimetype": "text/x-python",
   "name": "python",
   "nbconvert_exporter": "python",
   "pygments_lexer": "ipython3",
   "version": "3.9.12"
  }
 },
 "nbformat": 4,
 "nbformat_minor": 5
}
